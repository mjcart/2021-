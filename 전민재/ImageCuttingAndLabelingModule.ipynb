{
 "cells": [
  {
   "cell_type": "code",
   "execution_count": 1,
   "metadata": {
    "scrolled": true
   },
   "outputs": [],
   "source": [
    "#pip install opencv-python"
   ]
  },
  {
   "cell_type": "code",
   "execution_count": 2,
   "metadata": {},
   "outputs": [],
   "source": [
    "\n",
    "\n",
    "#imageresizemodule로 만들어진 파일들이 준비되어있어야한다.\n",
    "#완성된 image cutting and 파일로 labeling\n",
    "#모든 파일 숫자별로 10개씩 쪼개고 파일 별 label\n",
    "\n",
    "import os\n",
    "from PIL import Image\n",
    "\n",
    "\n",
    "#현재 디렉토리 위치 출력\n",
    "print(os.getcwd() )\n",
    "\n",
    "#실행시 디렉토리 위치는 실행파일있는 곳으로 하자.\n",
    "\n",
    "\n",
    "#resized된 파일이 있는곳으로 이동\n",
    "os.chdir('./data/resize/')\n",
    "\n",
    "\n",
    "#디렉토리에 있는 파일 출력\n",
    "print(os.listdir())\n",
    "files=os.listdir()\n",
    "\n",
    "#파일에 접근 시작\n",
    "for idx, file in enumerate(files):\n",
    "    fname, ext = os.path.splitext(file)\n",
    "    \n",
    "    #디렉토리에있는 파일중 jpg,png파일만 읽어들임\n",
    "    if ext in ['.jpg','.png']:\n",
    "        path=os.getcwd()\n",
    "        print(path,file)\n",
    "        im = Image.open(file)\n",
    "        \n",
    "        for i in range(10):\n",
    "            #해당 Label파일에 cutting된 사진 저장 \n",
    "            os.chdir(f\"./{i}\")\n",
    "            \n",
    "            for j in range(10):\n",
    "                #(x,y,x+width,y+height)\n",
    "                crop_image = im.crop((20+i*34, 20+j*34, 54+i*34 , 54+j*34))\n",
    "                crop_image = crop_image.resize((28, 28),Image.LANCZOS)\n",
    "                crop_image=crop_image.convert('L')\n",
    "                crop_image.save('Img' + str(idx)+'_'+str(i)+'_'+ str(j) + '.jpg')\n",
    "                print('Img' + str(idx)+'_'+str(i)+'_'+ str(j) + '.jpg저장')\n",
    "                \n",
    "            #모두 잘라낸뒤 resize파일로 돌아가기\n",
    "            os.chdir(\"../\")\n",
    "            \n",
    "# 실행이 끝나면 resize파일이다.\n",
    "#다시 기본디렉토리로 이동\n",
    "os.chdir(\"../\")\n",
    "os.chdir(\"../\")\n",
    "            \n",
    "   "
   ]
  }
 ],
 "metadata": {
  "kernelspec": {
   "display_name": "Python 3",
   "language": "python",
   "name": "python3"
  },
  "language_info": {
   "codemirror_mode": {
    "name": "ipython",
    "version": 3
   },
   "file_extension": ".py",
   "mimetype": "text/x-python",
   "name": "python",
   "nbconvert_exporter": "python",
   "pygments_lexer": "ipython3",
   "version": "3.9.0"
  }
 },
 "nbformat": 4,
 "nbformat_minor": 4
}
