{
 "cells": [
  {
   "cell_type": "code",
   "execution_count": 1,
   "metadata": {},
   "outputs": [],
   "source": [
    "from PIL import Image\n",
    "\n",
    "#data 파일에 들어있는 여러이미지 일괄 변환해 resize파일에 저장\n",
    "\n",
    "import os\n",
    "import glob\n",
    "from PIL import Image\n",
    "#초기 파일 위치에서 data파일로 이동\n",
    "os.chdir('./data')\n",
    "files=os.listdir()\n",
    "#data 파일에 존재하는 원본 jpg나 png 파일에 접근 \n",
    "for f in files:\n",
    "    title, ext = os.path.splitext(f)\n",
    "    if ext in ['.jpg', '.png']:\n",
    "        img = Image.open(f)\n",
    "        \n",
    "         #lanczos필터를 사용해 높은 품질의 이미즈를 얻는다.\n",
    "        img_resize = img.resize((380, 380),Image.LANCZOS)\n",
    "        \n",
    "        #resize디렉토리로 이동 후 저장\n",
    "        os.chdir('./resize')\n",
    "        print(os.getcwd() )\n",
    "        img_resize.save( title+'resized' + ext)\n",
    "        \n",
    "        #다시 data 디렉토리로 복귀\n",
    "        os.chdir(\"../\")\n",
    "#초기 디렉토리로 복귀\n",
    "os.chdir(\"../\")\n",
    "\n"
   ]
  }
 ],
 "metadata": {
  "kernelspec": {
   "display_name": "Python 3",
   "language": "python",
   "name": "python3"
  },
  "language_info": {
   "codemirror_mode": {
    "name": "ipython",
    "version": 3
   },
   "file_extension": ".py",
   "mimetype": "text/x-python",
   "name": "python",
   "nbconvert_exporter": "python",
   "pygments_lexer": "ipython3",
   "version": "3.9.0"
  }
 },
 "nbformat": 4,
 "nbformat_minor": 4
}
