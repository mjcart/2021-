{
 "cells": [
  {
   "cell_type": "code",
   "execution_count": 1,
   "metadata": {},
   "outputs": [],
   "source": [
    "from PIL import Image"
   ]
  },
  {
   "cell_type": "code",
   "execution_count": 2,
   "metadata": {},
   "outputs": [
    {
     "name": "stdout",
     "output_type": "stream",
     "text": [
      "E:\\전민재\\전공\\3학년\\머신러닝\\2021-MachineLearning-project\\전민재\\data\\resize\n",
      "E:\\전민재\\전공\\3학년\\머신러닝\\2021-MachineLearning-project\\전민재\\data\\resize\n",
      "E:\\전민재\\전공\\3학년\\머신러닝\\2021-MachineLearning-project\\전민재\\data\\resize\n",
      "E:\\전민재\\전공\\3학년\\머신러닝\\2021-MachineLearning-project\\전민재\\data\\resize\n",
      "E:\\전민재\\전공\\3학년\\머신러닝\\2021-MachineLearning-project\\전민재\\data\\resize\n",
      "E:\\전민재\\전공\\3학년\\머신러닝\\2021-MachineLearning-project\\전민재\\data\\resize\n",
      "E:\\전민재\\전공\\3학년\\머신러닝\\2021-MachineLearning-project\\전민재\\data\\resize\n"
     ]
    }
   ],
   "source": [
    "#data 파일에 들어있는 여러이미지 일괄 변환해 resize파일에 저장\n",
    "\n",
    "import os\n",
    "import glob\n",
    "from PIL import Image\n",
    "\n",
    "os.chdir('./data')\n",
    "files=os.listdir()\n",
    "\n",
    "for f in files:\n",
    "    title, ext = os.path.splitext(f)\n",
    "    if ext in ['.jpg', '.png']:\n",
    "        img = Image.open(f)\n",
    "        img_resize = img.resize((380, 380),Image.LANCZOS)\n",
    "        \n",
    "        #resize디렉토리로 이동 후 저장\n",
    "        os.chdir('./resize')\n",
    "        print(os.getcwd() )\n",
    "        img_resize.save( title+'resized' + ext)\n",
    "        #다시 data 디렉토리로 복귀\n",
    "        os.chdir(\"../\")\n",
    "#초기 디렉토리로 복귀\n",
    "os.chdir(\"../\")\n",
    "\n",
    "\n",
    "# img = Image.open('data/MNIST1.jpg')\n",
    "\n",
    "# #img_resize = img.resize((380, 380))\n",
    "# #img_resize.save('data/resize/resizedMNIST1.jpg')\n",
    "# #lanczos필터를 사용해 높은 품질의 이미즈를 얻는다.\n",
    "# img_resize_lanczos = img.resize((380, 380), Image.LANCZOS)\n",
    "# img_resize_lanczos.save('data/resize/MNIST1resized.jpg')\n",
    "\n"
   ]
  }
 ],
 "metadata": {
  "kernelspec": {
   "display_name": "Python 3",
   "language": "python",
   "name": "python3"
  },
  "language_info": {
   "codemirror_mode": {
    "name": "ipython",
    "version": 3
   },
   "file_extension": ".py",
   "mimetype": "text/x-python",
   "name": "python",
   "nbconvert_exporter": "python",
   "pygments_lexer": "ipython3",
   "version": "3.9.0"
  }
 },
 "nbformat": 4,
 "nbformat_minor": 4
}
