{
 "cells": [
  {
   "cell_type": "code",
   "execution_count": 1,
   "id": "2e0f91f8",
   "metadata": {},
   "outputs": [],
   "source": [
    "#############숫자 두르는 테두리 만들기 ###############\n",
    "\n",
    "import cv2\n",
    "import sys\n",
    "import math\n",
    "import cv2 as cv\n",
    "import numpy as np\n",
    "from time import sleep\n"
   ]
  },
  {
   "cell_type": "code",
   "execution_count": 2,
   "id": "0c90bb8d",
   "metadata": {},
   "outputs": [],
   "source": [
    "#색깔의 범주 설정(추후에 사용할까 해서 적은 두 줄) ->현재코드에는 영향을 주지 x\n",
    "black1 = np.array([0, 0, 0])  # 검정색 최솟값\n",
    "black2 = np.array([20, 20, 20])  # 검정색 최댓값\n",
    "\n",
    "name =\"C:/Users/tmdwh/Desktop/8.jpg\" #이미지 파일 하나 로딩\n",
    "\n",
    "img = cv2.imread(name , cv2.IMREAD_COLOR) #이미지와 코드가 한 파일에 있어야 함(혹은 위에 경로로 초기화 해주기)\n",
    "\n",
    "%matplotlib inline\n",
    "import matplotlib as mpl\n",
    "import matplotlib.pyplot as plt\n"
   ]
  },
  {
   "cell_type": "code",
   "execution_count": 3,
   "id": "a1adf97c",
   "metadata": {},
   "outputs": [],
   "source": [
    "\n",
    "# 모폴로지(dilate->팽창연산 적용: 글자 잡음 제거 , erode -> 침식연산 적용 :글자 주변 잡음 제거)\n",
    "k = cv2.getStructuringElement(cv2.MORPH_RECT, (3, 3)) #구조화 요소 커널, 사각형 (3x3) 생성\n",
    "ero_img = cv2.erode(img, k)\n",
    "\n",
    "imgray = cv2.cvtColor(ero_img, cv2.COLOR_BGR2GRAY) #이거 안하면 이진화 불가\n",
    "\n",
    "#cam = cv2.GaussianBlur(imgray, (3, 3), 0)  # 가우시안 블러 -> 불필요하다 생각\n",
    "\n",
    "ret, img_binary = cv2.threshold(imgray, 127, 255, cv2.THRESH_BINARY | cv2.THRESH_OTSU)  # 이진화\n",
    "#cv2.threshold(src, thresh, maxval, type) → retval, dst\n",
    "#src => input image(gray scale image), thresh=>임계값 (이하면 흰색 아니면 검정색)-> 이 경우 255/2\n",
    "#maxval ->임계값이상 나왔을때 적용할 값 -> 255 (검정)"
   ]
  },
  {
   "cell_type": "code",
   "execution_count": 4,
   "id": "f8923cc6",
   "metadata": {},
   "outputs": [
    {
     "data": {
      "text/plain": [
       "<matplotlib.image.AxesImage at 0x26b8d5d0f40>"
      ]
     },
     "execution_count": 4,
     "metadata": {},
     "output_type": "execute_result"
    },
    {
     "data": {
      "image/png": "[encoded data removed]",
      "text/plain": [
       "<Figure size 432x288 with 1 Axes>"
      ]
     },
     "metadata": {
      "needs_background": "light"
     },
     "output_type": "display_data"
    }
   ],
   "source": [
    "%matplotlib inline\n",
    "import matplotlib as mpl\n",
    "import matplotlib.pyplot as plt\n",
    "plt.imshow(img_binary, cmap=mpl.cm.binary)"
   ]
  },
  {
   "cell_type": "code",
   "execution_count": 5,
   "id": "62716239",
   "metadata": {},
   "outputs": [
    {
     "data": {
      "text/plain": [
       "<matplotlib.image.AxesImage at 0x26b8d6c6100>"
      ]
     },
     "execution_count": 5,
     "metadata": {},
     "output_type": "execute_result"
    },
    {
     "data": {
      "image/png": "[encoded data removed]",
      "text/plain": [
       "<Figure size 432x288 with 1 Axes>"
      ]
     },
     "metadata": {
      "needs_background": "light"
     },
     "output_type": "display_data"
    }
   ],
   "source": [
    "vers_img = 255 - img_binary #(이미지를 반전 처리 해줌) -> 컨투어(사각형 그리기)는 흰색을 기준으로 그리기 때문\n",
    "\n",
    "plt.imshow(vers_img, cmap=mpl.cm.binary)"
   ]
  },
  {
   "cell_type": "code",
   "execution_count": 6,
   "id": "0ca8dfb7",
   "metadata": {},
   "outputs": [
    {
     "name": "stdout",
     "output_type": "stream",
     "text": [
      " x = 4, w = 14\n",
      " y = 12, h = 12\n",
      " 가로 중간값 = 11.000000\n",
      " 세로 중간값 = 18.000000\n"
     ]
    }
   ],
   "source": [
    "contours, hierarchy = cv2.findContours(vers_img, cv2.RETR_CCOMP, cv2.CHAIN_APPROX_SIMPLE)  # 컨투어\n",
    "#반전된 이미지로 컨투어를 진행\n",
    "\n",
    "if len(contours) == 0:\n",
    "    print(\"컨투어 0\") #컨투어를 하지 못한 -> 이미지 파일 손상 등등의 문제\n",
    "\n",
    "else:\n",
    "    contr = contours[0]\n",
    "    x, y, w, h = cv2.boundingRect(contr)  # 최소한의 사각형 그려주는 함수\n",
    "    cv2.rectangle(img_binary, (x, y), (x + w, y + h), (0, 255, 0), 3) #(x,y)->왼쪽 하단 꼭지점, (x+w,y+h)-> 오른쪽 상단 꼭지점   \n",
    "    # w: 사각형의 width, h: 사각형의 high  x: 왼쪽 아래 꼭지점의 x좌표  y: 오른쪽 위 꼭지점의 y좌표 \n",
    "    # 사각형을 img_binary에 그려 주었다 -> 사각형 추후 처리해야 한다 아니면 숫자가 바뀜\n",
    "    print(\" x = %d, w = %d\" % (x, w))\n",
    "    print(\" y = %d, h = %d\" % (y, h))\n",
    "    x_mid = x + w/2\n",
    "    y_mid = y + h/2\n",
    "    print(\" 가로 중간값 = %f\" % (x_mid))\n",
    "    print(\" 세로 중간값 = %f\" % (y_mid))\n",
    "    \n",
    "\n",
    "cv.imshow(\"Original_image\", img)  # 원본파일\n",
    "cv.imshow(\"Thresh_binary\", img_binary)  #수정파일\n"
   ]
  },
  {
   "cell_type": "code",
   "execution_count": 7,
   "id": "e915438d",
   "metadata": {},
   "outputs": [
    {
     "data": {
      "text/plain": [
       "<matplotlib.image.AxesImage at 0x26b8d720fd0>"
      ]
     },
     "execution_count": 7,
     "metadata": {},
     "output_type": "execute_result"
    },
    {
     "data": {
      "image/png": "[encoded data removed]",
      "text/plain": [
       "<Figure size 432x288 with 1 Axes>"
      ]
     },
     "metadata": {
      "needs_background": "light"
     },
     "output_type": "display_data"
    }
   ],
   "source": [
    "#확인 작업\n",
    "plt.imshow(img_binary, cmap=mpl.cm.binary)"
   ]
  },
  {
   "cell_type": "code",
   "execution_count": 8,
   "id": "a7a424e1",
   "metadata": {},
   "outputs": [
    {
     "data": {
      "text/plain": [
       "array([[255, 255, 255, 255, 255, 255, 255, 255, 255, 255, 255, 255, 255,\n",
       "        255, 255, 255, 255, 255, 255, 255, 255, 255, 255, 255, 255, 255,\n",
       "        255, 255],\n",
       "       [255, 255, 255, 255, 255, 255, 255, 255, 255, 255, 255, 255, 255,\n",
       "        255, 255, 255, 255, 255, 255, 255, 255, 255, 255, 255, 255, 255,\n",
       "        255, 255],\n",
       "       [255, 255, 255, 255, 255, 255, 255, 255, 255, 255, 255, 255, 255,\n",
       "        255, 255, 255, 255, 255, 255, 255, 255, 255, 255, 255, 255, 255,\n",
       "        255, 255],\n",
       "       [255, 255, 255, 255, 255, 255, 255, 255, 255, 255, 255, 255, 255,\n",
       "        255, 255, 255, 255, 255, 255, 255, 255, 255, 255, 255, 255, 255,\n",
       "        255, 255],\n",
       "       [255, 255, 255, 255, 255, 255, 255, 255, 255, 255, 255, 255, 255,\n",
       "        255, 255, 255, 255, 255, 255, 255, 255, 255, 255, 255, 255, 255,\n",
       "        255, 255],\n",
       "       [255, 255, 255, 255, 255, 255, 255, 255, 255, 255, 255, 255, 255,\n",
       "        255, 255, 255, 255, 255, 255, 255, 255, 255, 255, 255, 255, 255,\n",
       "        255, 255],\n",
       "       [255, 255, 255, 255, 255, 255, 255, 255, 255, 255, 255, 255, 255,\n",
       "        255, 255, 255, 255, 255, 255, 255, 255, 255, 255, 255, 255, 255,\n",
       "        255, 255],\n",
       "       [255, 255, 255, 255, 255, 255, 255, 255, 255, 255, 255, 255, 255,\n",
       "        255, 255, 255, 255, 255, 255, 255, 255, 255, 255, 255, 255, 255,\n",
       "        255, 255],\n",
       "       [255, 255, 255, 255, 255, 255, 255, 255, 255, 255, 255, 255, 255,\n",
       "        255, 255, 255, 255, 255, 255, 255, 255, 255, 255, 255, 255, 255,\n",
       "        255, 255],\n",
       "       [255, 255, 255, 255, 255, 255, 255, 255, 255, 255, 255, 255, 255,\n",
       "        255, 255, 255, 255, 255, 255, 255, 255, 255, 255, 255, 255, 255,\n",
       "        255, 255],\n",
       "       [255, 255, 255, 255,   0,   0,   0,   0,   0,   0,   0,   0,   0,\n",
       "          0,   0,   0,   0,   0,   0, 255, 255, 255, 255, 255, 255, 255,\n",
       "        255, 255],\n",
       "       [255, 255, 255,   0,   0,   0,   0,   0,   0,   0,   0,   0,   0,\n",
       "          0,   0,   0,   0,   0,   0,   0, 255, 255, 255, 255, 255, 255,\n",
       "        255, 255],\n",
       "       [255, 255,   0,   0,   0,   0,   0,   0,   0,   0,   0,   0,   0,\n",
       "          0,   0,   0,   0,   0,   0,   0,   0, 255, 255, 255, 255, 255,\n",
       "        255, 255],\n",
       "       [255, 255,   0,   0,   0,   0,   0,   0,   0,   0,   0,   0,   0,\n",
       "          0,   0,   0,   0,   0,   0,   0,   0, 255, 255, 255, 255, 255,\n",
       "        255, 255],\n",
       "       [255, 255,   0,   0,   0,   0,   0,   0,   0,   0,   0,   0,   0,\n",
       "          0,   0,   0,   0,   0,   0,   0,   0, 255, 255, 255, 255, 255,\n",
       "        255, 255],\n",
       "       [255, 255,   0,   0,   0,   0,   0,   0,   0,   0,   0, 255,   0,\n",
       "          0,   0,   0,   0,   0,   0,   0,   0, 255, 255, 255, 255, 255,\n",
       "        255, 255],\n",
       "       [255, 255,   0,   0,   0,   0,   0,   0,   0,   0,   0,   0,   0,\n",
       "          0,   0,   0,   0,   0,   0,   0,   0, 255, 255, 255, 255, 255,\n",
       "        255, 255],\n",
       "       [255, 255,   0,   0,   0,   0,   0,   0,   0,   0,   0,   0,   0,\n",
       "          0,   0,   0,   0,   0,   0,   0,   0, 255, 255, 255, 255, 255,\n",
       "        255, 255],\n",
       "       [255, 255,   0,   0,   0,   0,   0,   0,   0,   0,   0,   0,   0,\n",
       "          0,   0,   0,   0,   0,   0,   0,   0, 255, 255, 255, 255, 255,\n",
       "        255, 255],\n",
       "       [255, 255,   0,   0,   0,   0,   0,   0,   0,   0,   0, 255,   0,\n",
       "          0,   0,   0,   0,   0,   0,   0,   0, 255, 255, 255, 255, 255,\n",
       "        255, 255],\n",
       "       [255, 255,   0,   0,   0,   0,   0,   0,   0,   0, 255, 255,   0,\n",
       "          0,   0,   0,   0,   0,   0,   0,   0, 255, 255, 255, 255, 255,\n",
       "        255, 255],\n",
       "       [255, 255,   0,   0,   0,   0,   0,   0,   0,   0,   0,   0,   0,\n",
       "          0,   0,   0,   0,   0,   0,   0,   0, 255, 255, 255, 255, 255,\n",
       "        255, 255],\n",
       "       [255, 255,   0,   0,   0,   0,   0,   0,   0,   0,   0,   0,   0,\n",
       "          0,   0,   0,   0,   0,   0,   0,   0, 255, 255, 255, 255, 255,\n",
       "        255, 255],\n",
       "       [255, 255,   0,   0,   0,   0,   0,   0,   0,   0,   0,   0,   0,\n",
       "          0,   0,   0,   0,   0,   0,   0,   0, 255, 255, 255, 255, 255,\n",
       "        255, 255],\n",
       "       [255, 255,   0,   0,   0,   0,   0,   0,   0,   0,   0,   0,   0,\n",
       "          0,   0,   0,   0,   0,   0,   0,   0, 255, 255, 255, 255, 255,\n",
       "        255, 255],\n",
       "       [255, 255, 255,   0,   0,   0,   0,   0,   0,   0,   0,   0,   0,\n",
       "          0,   0,   0,   0,   0,   0,   0, 255, 255, 255, 255, 255, 255,\n",
       "        255, 255],\n",
       "       [255, 255, 255, 255,   0,   0,   0,   0,   0,   0,   0,   0,   0,\n",
       "          0,   0,   0,   0,   0,   0, 255, 255, 255, 255, 255, 255, 255,\n",
       "        255, 255],\n",
       "       [255, 255, 255, 255, 255, 255, 255, 255, 255, 255, 255, 255, 255,\n",
       "        255, 255, 255, 255, 255, 255, 255, 255, 255, 255, 255, 255, 255,\n",
       "        255, 255]], dtype=uint8)"
      ]
     },
     "execution_count": 8,
     "metadata": {},
     "output_type": "execute_result"
    }
   ],
   "source": [
    "img_binary"
   ]
  },
  {
   "cell_type": "code",
   "execution_count": null,
   "id": "b333a3a9",
   "metadata": {},
   "outputs": [],
   "source": [
    "img_binary.size"
   ]
  },
  {
   "cell_type": "code",
   "execution_count": null,
   "id": "2e369fac",
   "metadata": {},
   "outputs": [],
   "source": [
    "#deep copy\n",
    "cpy_img = [[0 for col in range(28)] for row in range(28)]\n",
    "for i in range (28):\n",
    "    for j in range (28):\n",
    "        cpy_img[i][j] = 255"
   ]
  },
  {
   "cell_type": "code",
   "execution_count": null,
   "id": "e6647ce7",
   "metadata": {},
   "outputs": [],
   "source": [
    "cpy_img #도화지"
   ]
  },
  {
   "cell_type": "code",
   "execution_count": null,
   "id": "9895e2da",
   "metadata": {},
   "outputs": [],
   "source": []
  },
  {
   "cell_type": "code",
   "execution_count": null,
   "id": "43289e21",
   "metadata": {},
   "outputs": [],
   "source": [
    "import math\n",
    "x_er = math.floor(x_mid -14)\n",
    "y_er = math.floor(y_mid -14)\n",
    "print(x_er)\n",
    "print (img_binary[5][5])\n",
    "if x_mid !=  14 : # 숫자가 좌우 쏠림\n",
    "    for i in range (27):\n",
    "        for j in range (27):\n",
    "            if img_binary[i][j] == 0: #데이터가 있으면 \n",
    "                cpy_img[i][j-round(x_er)] = 0              "
   ]
  },
  {
   "cell_type": "code",
   "execution_count": null,
   "id": "d6be16fe",
   "metadata": {},
   "outputs": [],
   "source": [
    "cpy_img"
   ]
  },
  {
   "cell_type": "code",
   "execution_count": null,
   "id": "ad5de7f1",
   "metadata": {},
   "outputs": [],
   "source": [
    "plt.imshow(cpy_img, cmap=mpl.cm.binary)"
   ]
  },
  {
   "cell_type": "code",
   "execution_count": null,
   "id": "6976a3f9",
   "metadata": {},
   "outputs": [],
   "source": [
    "if y_mid !=  14 : # 숫자가 좌우 쏠림\n",
    "    rang_img = [[0 for col in range(28)] for row in range(28)]\n",
    "    for i in range (28):\n",
    "        for j in range (28):\n",
    "            rang_img[i][j] = 255\n",
    "    for i in range (28):\n",
    "        for j in range (28):\n",
    "            if cpy_img[j][i] == 0: #데이터가 있으면 \n",
    "                rang_img[j-round(y_er)][i] = 0            "
   ]
  },
  {
   "cell_type": "code",
   "execution_count": null,
   "id": "40a6a7eb",
   "metadata": {},
   "outputs": [],
   "source": [
    "plt.imshow(rang_img, cmap=mpl.cm.binary)"
   ]
  },
  {
   "cell_type": "code",
   "execution_count": null,
   "id": "703fbaef",
   "metadata": {},
   "outputs": [],
   "source": []
  }
 ],
 "metadata": {
  "kernelspec": {
   "display_name": "Python 3",
   "language": "python",
   "name": "python3"
  },
  "language_info": {
   "codemirror_mode": {
    "name": "ipython",
    "version": 3
   },
   "file_extension": ".py",
   "mimetype": "text/x-python",
   "name": "python",
   "nbconvert_exporter": "python",
   "pygments_lexer": "ipython3",
   "version": "3.8.8"
  }
 },
 "nbformat": 4,
 "nbformat_minor": 5
}
