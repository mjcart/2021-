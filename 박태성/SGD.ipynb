{
 "cells": [
  {
   "cell_type": "code",
   "execution_count": null,
   "id": "2fe35f5f",
   "metadata": {},
   "outputs": [],
   "source": [
    "# Python ≥3.5 is required\n",
    "import sys\n",
    "assert sys.version_info >= (3, 5)\n",
    "\n",
    "# Scikit-Learn ≥0.20 is required\n",
    "import sklearn\n",
    "assert sklearn.__version__ >= \"0.20\"\n",
    "\n",
    "# Common imports\n",
    "import numpy as np\n",
    "import os\n",
    "\n",
    "# to make this notebook's output stable across runs\n",
    "np.random.seed(42)\n",
    "\n",
    "# To plot pretty figures\n",
    "%matplotlib inline\n",
    "import matplotlib as mpl\n",
    "import matplotlib.pyplot as plt\n",
    "mpl.rc('axes', labelsize=14)\n",
    "mpl.rc('xtick', labelsize=12)\n",
    "mpl.rc('ytick', labelsize=12)\n",
    "\n",
    "# Where to save the figures\n",
    "PROJECT_ROOT_DIR = \".\"\n",
    "CHAPTER_ID = \"3_classification\"\n",
    "IMAGES_PATH = os.path.join(PROJECT_ROOT_DIR, \"images\", CHAPTER_ID)\n",
    "os.makedirs(IMAGES_PATH, exist_ok=True)\n",
    "\n",
    "def save_fig(fig_id, tight_layout=True, fig_extension=\"png\", resolution=300):\n",
    "    path = os.path.join(IMAGES_PATH, fig_id + \".\" + fig_extension)\n",
    "    print(\"Saving figure\", fig_id)\n",
    "    if tight_layout:\n",
    "        plt.tight_layout()\n",
    "    plt.savefig(path, format=fig_extension, dpi=resolution)\n",
    "\n",
    "# Ignore useless warnings (see SciPy issue #5998)\n",
    "import warnings\n",
    "warnings.filterwarnings(action=\"ignore\", message=\"^internal gelsd\")"
   ]
  },
  {
   "cell_type": "code",
   "execution_count": null,
   "id": "792c41da",
   "metadata": {},
   "outputs": [],
   "source": [
    "from sklearn.datasets import fetch_openml\n",
    "mnist = fetch_openml('mnist_784', version=1)"
   ]
  },
  {
   "cell_type": "code",
   "execution_count": null,
   "id": "304f6e27",
   "metadata": {},
   "outputs": [],
   "source": [
    "X, y = mnist[\"data\"], mnist[\"target\"] # X, y: pandas DataFrame\n",
    "X, y = X.to_numpy(), y.to_numpy() # X, y: numpy array\n",
    "y = y.astype(np.uint8)"
   ]
  },
  {
   "cell_type": "code",
   "execution_count": null,
   "id": "11624c5b",
   "metadata": {},
   "outputs": [],
   "source": [
    "from sklearn.model_selection import train_test_split\n",
    "X_train_, X_test, y_train_, y_test = train_test_split(X, y , test_size=0.2, random_state=42)\n",
    "X_train, X_valid, y_train, y_valid = train_test_split(X_train_, y_train_, test_size=0.25, random_state=42)\n",
    "#train : vaild : test = 6 : 2 : 2 "
   ]
  },
  {
   "cell_type": "code",
   "execution_count": null,
   "id": "2511fc71",
   "metadata": {},
   "outputs": [],
   "source": [
    "from sklearn.linear_model import SGDClassifier\n",
    "\n",
    "sgd_clf = SGDClassifier(max_iter=1000, tol=1e-3, random_state=42)\n",
    "sgd_clf.fit(X_train, y_train)"
   ]
  },
  {
   "cell_type": "code",
   "execution_count": null,
   "id": "c91ebfc4",
   "metadata": {},
   "outputs": [],
   "source": [
    "sgd_clf.score(X_valid,y_valid)"
   ]
  },
  {
   "cell_type": "code",
   "execution_count": null,
   "id": "b9a8ee3d",
   "metadata": {},
   "outputs": [],
   "source": [
    "from sklearn.metrics import mean_squared_error as mse\n",
    "from sklearn.model_selection import train_test_split\n",
    "import math\n",
    "import time\n",
    "\n",
    "def plot_learning_curves(model, X_t, X_v, y_t, y_v):\n",
    "    X_train, X_valid, y_train, y_valid = X_t, X_v, y_t, y_v\n",
    "    train_errors, valid_errors = [], []\n",
    "    for m in range (6000, 42001, 6000):\n",
    "        model.fit(X_train[:m], y_train[:m])\n",
    "        y_train_predict = model.predict(X_train[:m])\n",
    "        y_valid_predict = model.predict(X_valid)\n",
    "        train_errors.append(mse(y_train[:m], y_train_predict))\n",
    "        valid_errors.append(mse(y_valid, y_valid_predict))\n",
    "        \n",
    "    plt.plot(np.sqrt(train_errors), \"r-+\", linewidth = 2, label = \"train_set\")\n",
    "    plt.plot(np.sqrt(valid_errors), \"b-\", linewidth = 3, label = \"valid_set\")\n",
    "    plt.legend(loc=\"upper right\", fontsize = 14)\n",
    "    plt.xlabel(\"train_set_size\", fontsize = 14)\n",
    "    plt.ylabel(\"RMSE\", fontsize = 14)\n",
    "    \n"
   ]
  },
  {
   "cell_type": "code",
   "execution_count": null,
   "id": "838f9b55",
   "metadata": {},
   "outputs": [],
   "source": [
    "start = time.time()\n",
    "plot_learning_curves(sgd_clf, X_train, X_valid, y_train, y_valid)\n",
    "end = time.time()\n",
    "\n",
    "print(f\"SGD Classifier학습 시간: {end - start:.3f} sec\")\n",
    "\n",
    "plt.show()"
   ]
  },
  {
   "cell_type": "code",
   "execution_count": null,
   "id": "116754e6",
   "metadata": {},
   "outputs": [],
   "source": [
    "from sklearn.model_selection import GridSearchCV\n",
    "import math\n",
    "import time\n",
    "\n",
    "sgd1_clf = SGDClassifier(random_state=42)\n",
    "param_grid = [\n",
    "    # try 12 (3×4) combinations of hyperparameters\n",
    "    {'max_iter':[100,200,300,400,500,1000,1500,2000]}\n",
    "  ]\n",
    "grid_search = GridSearchCV(sgd_clf, param_grid,\n",
    "                           n_jobs = -1,\n",
    "                           scoring='neg_mean_squared_error',\n",
    "                           return_train_score=True)\n"
   ]
  },
  {
   "cell_type": "code",
   "execution_count": null,
   "id": "c8ae9271",
   "metadata": {},
   "outputs": [],
   "source": [
    "start = time.time()\n",
    "grid_search.fit(X_train, y_train)\n",
    "end = time.time()\n",
    "\n",
    "print(f\"Grid Search 학습 시간: {end - start:.3f} sec\")"
   ]
  },
  {
   "cell_type": "code",
   "execution_count": null,
   "id": "a18f1c40",
   "metadata": {},
   "outputs": [],
   "source": [
    "grid_search.best_estimator_"
   ]
  },
  {
   "cell_type": "code",
   "execution_count": null,
   "id": "dd64bec0",
   "metadata": {},
   "outputs": [],
   "source": [
    "sgd_clf_1 = SGDClassifier(max_iter=500, tol=1e-3, random_state=42, n_jobs = -1)\n",
    "sgd_clf_1.fit(X_train, y_train)"
   ]
  },
  {
   "cell_type": "code",
   "execution_count": null,
   "id": "03bed6a0",
   "metadata": {},
   "outputs": [],
   "source": [
    "sgd_clf_1.score(X_valid, y_valid)"
   ]
  },
  {
   "cell_type": "code",
   "execution_count": null,
   "id": "85de9d34",
   "metadata": {},
   "outputs": [],
   "source": [
    "start = time.time()\n",
    "plot_learning_curves(sgd_clf_1, X_train, X_valid, y_train, y_valid)\n",
    "end = time.time()\n",
    "\n",
    "print(f\"Grid Search를 이용한 Hyperparameter를 적용한 SGD Classifier학습 시간: {end - start:.3f} sec\")\n",
    "\n",
    "plt.show()"
   ]
  },
  {
   "cell_type": "code",
   "execution_count": null,
   "id": "fddf08d2",
   "metadata": {},
   "outputs": [],
   "source": []
  }
 ],
 "metadata": {
  "kernelspec": {
   "display_name": "Python 3",
   "language": "python",
   "name": "python3"
  },
  "language_info": {
   "codemirror_mode": {
    "name": "ipython",
    "version": 3
   },
   "file_extension": ".py",
   "mimetype": "text/x-python",
   "name": "python",
   "nbconvert_exporter": "python",
   "pygments_lexer": "ipython3",
   "version": "3.8.8"
  }
 },
 "nbformat": 4,
 "nbformat_minor": 5
}
