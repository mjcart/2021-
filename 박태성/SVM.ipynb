{
 "cells": [
  {
   "cell_type": "code",
   "execution_count": null,
   "id": "d78c2486",
   "metadata": {},
   "outputs": [],
   "source": [
    "# Python ≥3.5 is required\n",
    "import sys\n",
    "assert sys.version_info >= (3, 5)\n",
    "\n",
    "# Scikit-Learn ≥0.20 is required\n",
    "import sklearn\n",
    "assert sklearn.__version__ >= \"0.20\"\n",
    "\n",
    "# Common imports\n",
    "import numpy as np\n",
    "import os\n",
    "\n",
    "# to make this notebook's output stable across runs\n",
    "np.random.seed(42)\n",
    "\n",
    "# To plot pretty figures\n",
    "%matplotlib inline\n",
    "import matplotlib as mpl\n",
    "import matplotlib.pyplot as plt\n",
    "mpl.rc('axes', labelsize=14)\n",
    "mpl.rc('xtick', labelsize=12)\n",
    "mpl.rc('ytick', labelsize=12)\n",
    "\n",
    "# Where to save the figures\n",
    "PROJECT_ROOT_DIR = \".\"\n",
    "CHAPTER_ID = \"MNISTTraining\"\n",
    "IMAGES_PATH = os.path.join(PROJECT_ROOT_DIR, \"images\", CHAPTER_ID)\n",
    "os.makedirs(IMAGES_PATH, exist_ok=True)\n",
    "\n",
    "def save_fig(fig_id, tight_layout=True, fig_extension=\"png\", resolution=300):\n",
    "    path = os.path.join(IMAGES_PATH, fig_id + \".\" + fig_extension)\n",
    "    print(\"Saving figure\", fig_id)\n",
    "    if tight_layout:\n",
    "        plt.tight_layout()\n",
    "    plt.savefig(path, format=fig_extension, dpi=resolution)\n",
    "\n",
    "# Ignore useless warnings (see SciPy issue #5998)\n",
    "import warnings\n",
    "warnings.filterwarnings(action=\"ignore\", message=\"^internal gelsd\")"
   ]
  },
  {
   "cell_type": "code",
   "execution_count": null,
   "id": "c04299c0",
   "metadata": {},
   "outputs": [],
   "source": [
    "from sklearn.datasets import fetch_openml\n",
    "mnist = fetch_openml('mnist_784', version=1)"
   ]
  },
  {
   "cell_type": "code",
   "execution_count": null,
   "id": "914264f6",
   "metadata": {},
   "outputs": [],
   "source": [
    "X, y = mnist[\"data\"], mnist[\"target\"] # X, y: pandas DataFrame\n",
    "X, y = X.to_numpy(), y.to_numpy() # X, y: numpy array\n",
    "y = y.astype(np.uint8)"
   ]
  },
  {
   "cell_type": "code",
   "execution_count": null,
   "id": "eb18a26c",
   "metadata": {},
   "outputs": [],
   "source": [
    "from sklearn.model_selection import train_test_split\n",
    "X_train_, X_test, y_train_, y_test = train_test_split(X, y , test_size=0.2, random_state=42)\n",
    "X_train, X_valid, y_train, y_valid = train_test_split(X_train_, y_train_, test_size=0.25, random_state=42)\n",
    "#train : vaild : test = 6 : 2 : 2 "
   ]
  },
  {
   "cell_type": "code",
   "execution_count": null,
   "id": "b74cfe13",
   "metadata": {},
   "outputs": [],
   "source": [
    "from sklearn.svm import LinearSVC\n",
    "lin_clf = LinearSVC(max_iter = 10000, random_state = 42)\n",
    "lin_clf.fit(X_train, y_train)"
   ]
  },
  {
   "cell_type": "code",
   "execution_count": null,
   "id": "e6fba5c4",
   "metadata": {},
   "outputs": [],
   "source": [
    "lin_clf.score(X_valid, y_valid)"
   ]
  },
  {
   "cell_type": "code",
   "execution_count": null,
   "id": "e23de2e0",
   "metadata": {},
   "outputs": [],
   "source": [
    "from sklearn.preprocessing import StandardScaler\n",
    "scaler = StandardScaler()\n",
    "X_train_scaled = scaler.fit_transform(X_train.astype(np.float32))\n",
    "X_valid_scaled = scaler.fit_transform(X_valid.astype(np.float32))\n",
    "\n",
    "lin_clf.fit(X_train_scaled, y_train)\n",
    "lin_clf.score(X_valid_scaled, y_valid)"
   ]
  },
  {
   "cell_type": "code",
   "execution_count": null,
   "id": "c9b8738d",
   "metadata": {},
   "outputs": [],
   "source": [
    "from sklearn.svm import SVC\n",
    "svm_clf = SVC(decision_function_shape = \"ovr\", gamma = \"auto\")\n",
    "svm_clf.fit(X_train_scaled, y_train)"
   ]
  },
  {
   "cell_type": "code",
   "execution_count": null,
   "id": "cd95e541",
   "metadata": {},
   "outputs": [],
   "source": [
    "svm_clf.score(X_valid_scaled, y_valid)"
   ]
  },
  {
   "cell_type": "code",
   "execution_count": null,
   "id": "c71ad9ef",
   "metadata": {},
   "outputs": [],
   "source": []
  },
  {
   "cell_type": "code",
   "execution_count": null,
   "id": "35233d58",
   "metadata": {},
   "outputs": [],
   "source": [
    "from sklearn.model_selection import GridSearchCV\n",
    "import math\n",
    "import time\n",
    "\n",
    "svm_clf = SVC(gamma = 'auto')\n",
    "param_grid = [\n",
    "    # try 12 (3×4) combinations of hyperparameters\n",
    "    {'C':[1,10,100,1000], 'kernel':['linear']},\n",
    "    {'C':[1,10,100,1000], 'kernel':['rbf'], 'gamma':[0.5, 0.1, 0.01, 0.001]}\n",
    "  ]\n",
    "grid_search = GridSearchCV(svm_clf, param_grid,\n",
    "                           n_jobs = -1,\n",
    "                           scoring='neg_mean_squared_error',\n",
    "                           return_train_score=True)\n"
   ]
  },
  {
   "cell_type": "code",
   "execution_count": null,
   "id": "04772809",
   "metadata": {},
   "outputs": [],
   "source": [
    "start = time.time()\n",
    "grid_search.fit(X_train_scaled, y_train)\n",
    "end = time.time()\n",
    "\n",
    "print(f\"Grid Search 학습 시간: {end - start:.3f} sec\")"
   ]
  },
  {
   "cell_type": "code",
   "execution_count": null,
   "id": "904f5e2f",
   "metadata": {},
   "outputs": [],
   "source": [
    "grid_search.best_estimator_"
   ]
  },
  {
   "cell_type": "code",
   "execution_count": null,
   "id": "4f961a1c",
   "metadata": {},
   "outputs": [],
   "source": [
    "svm_clf_1 = SVC(C = , kernel = '')"
   ]
  },
  {
   "cell_type": "code",
   "execution_count": null,
   "id": "0868cca1",
   "metadata": {},
   "outputs": [],
   "source": []
  },
  {
   "cell_type": "code",
   "execution_count": null,
   "id": "11791e68",
   "metadata": {},
   "outputs": [],
   "source": [
    "from sklearn.metrics import mean_squared_error as mse\n",
    "from sklearn.model_selection import train_test_split\n",
    "import math\n",
    "import time\n",
    "\n",
    "def plot_learning_curves(model, X_t, X_v, y_t, y_v):\n",
    "    X_train, X_valid, y_train, y_valid = X_t, X_v, y_t, y_v\n",
    "    train_errors, valid_errors = [], []\n",
    "    for m in range (6000, 42001, 6000):\n",
    "        model.fit(X_train[:m], y_train[:m])\n",
    "        y_train_predict = model.predict(X_train[:m])\n",
    "        y_valid_predict = model.predict(X_valid)\n",
    "        train_errors.append(mse(y_train[:m], y_train_predict))\n",
    "        valid_errors.append(mse(y_valid, y_valid_predict))\n",
    "        \n",
    "    plt.plot(np.sqrt(train_errors), \"r-+\", linewidth = 2, label = \"train_set\")\n",
    "    plt.plot(np.sqrt(valid_errors), \"b-\", linewidth = 3, label = \"valid_set\")\n",
    "    plt.legend(loc=\"upper right\", fontsize = 14)\n",
    "    plt.xlabel(\"train_set_size\", fontsize = 14)\n",
    "    plt.ylabel(\"RMSE\", fontsize = 14)"
   ]
  },
  {
   "cell_type": "code",
   "execution_count": null,
   "id": "e5f17f12",
   "metadata": {},
   "outputs": [],
   "source": [
    "start = time.time()\n",
    "plot_learning_curves(lin_clf, X_train, X_valid, y_train, y_valid)\n",
    "end = time.time()\n",
    "\n",
    "print(f\"LinearSVC Classifier학습 시간: {end - start:.3f} sec\")\n",
    "\n",
    "plt.show()"
   ]
  }
 ],
 "metadata": {
  "kernelspec": {
   "display_name": "Python 3",
   "language": "python",
   "name": "python3"
  },
  "language_info": {
   "codemirror_mode": {
    "name": "ipython",
    "version": 3
   },
   "file_extension": ".py",
   "mimetype": "text/x-python",
   "name": "python",
   "nbconvert_exporter": "python",
   "pygments_lexer": "ipython3",
   "version": "3.8.8"
  }
 },
 "nbformat": 4,
 "nbformat_minor": 5
}
